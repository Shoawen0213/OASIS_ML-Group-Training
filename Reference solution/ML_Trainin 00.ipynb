{
 "cells": [
  {
   "cell_type": "code",
   "execution_count": 1,
   "metadata": {},
   "outputs": [],
   "source": [
    "import numpy as np\n",
    "import matplotlib.pyplot as plt"
   ]
  },
  {
   "cell_type": "markdown",
   "metadata": {},
   "source": [
    "Numpy重點在於\"陣列的操作\"，其所有功能特色都建築在同質且多重維度的 ndarray（N-dimensional array） <br><br/>\n",
    "關鍵屬性：維度（ndim）、形狀（shape）、數值類型（dtype）.\n",
    "\n",
    "![Image of Yaktocat](https://static.coderbridge.com/img/techbridge/images/kdchang/arrays.png)"
   ]
  },
  {
   "cell_type": "markdown",
   "metadata": {},
   "source": [
    "### Practice 01"
   ]
  },
  {
   "cell_type": "code",
   "execution_count": 2,
   "metadata": {},
   "outputs": [
    {
     "name": "stdout",
     "output_type": "stream",
     "text": [
      "Orginal：[1, 2, 3]\n",
      "Convert to Array：[1 2 3]\n",
      "Orginal matrix：[[1, 2, 3], [4, 5, 6], [7, 8, 9]]\n",
      "Convert to numpy array：[[1 2 3]\n",
      " [4 5 6]\n",
      " [7 8 9]]\n"
     ]
    }
   ],
   "source": [
    "my_list = [1,2,3]\n",
    "print(\"Orginal：{}\".format(my_list))\n",
    "print(\"Convert to Array：{}\".format(np.array(my_list)))\n",
    "\n",
    "my_matrix = [[1,2,3],[4,5,6],[7,8,9]]\n",
    "print(\"Orginal matrix：{}\".format(my_matrix))\n",
    "print(\"Convert to numpy array：{}\".format(np.array(my_matrix)))"
   ]
  },
  {
   "cell_type": "markdown",
   "metadata": {},
   "source": [
    "### Practice 02"
   ]
  },
  {
   "cell_type": "code",
   "execution_count": 3,
   "metadata": {},
   "outputs": [
    {
     "name": "stdout",
     "output_type": "stream",
     "text": [
      "Q1：[ 0  2  4  6  8 10]\n"
     ]
    }
   ],
   "source": [
    "print(\"Q1：{}\".format(np.arange(0,11,2)))"
   ]
  },
  {
   "cell_type": "code",
   "execution_count": 4,
   "metadata": {},
   "outputs": [
    {
     "name": "stdout",
     "output_type": "stream",
     "text": [
      "Q2：3*4 zero array \n",
      "[[0. 0. 0. 0.]\n",
      " [0. 0. 0. 0.]\n",
      " [0. 0. 0. 0.]]\n",
      "\n",
      "\n",
      "Q2：3*4 ones array \n",
      "[[1. 1. 1. 1.]\n",
      " [1. 1. 1. 1.]\n",
      " [1. 1. 1. 1.]]\n"
     ]
    }
   ],
   "source": [
    "print(\"Q2：3*4 zero array \"+\"\\n\"+\"{}\".format(np.zeros((3, 4))))\n",
    "print(\"\\n\")\n",
    "print(\"Q2：3*4 ones array \"+\"\\n\"+\"{}\".format(np.ones((3, 4))))"
   ]
  },
  {
   "cell_type": "code",
   "execution_count": 5,
   "metadata": {},
   "outputs": [
    {
     "name": "stdout",
     "output_type": "stream",
     "text": [
      "Q3：3*4 constant matrix with number 20 \n",
      "[[20 20 20 20]\n",
      " [20 20 20 20]\n",
      " [20 20 20 20]]\n"
     ]
    }
   ],
   "source": [
    "print(\"Q3：3*4 constant matrix with number 20 \"+\"\\n\"+\"{}\".format( np.full((3, 4), 20)))"
   ]
  },
  {
   "cell_type": "code",
   "execution_count": 6,
   "metadata": {
    "scrolled": true
   },
   "outputs": [
    {
     "name": "stdout",
     "output_type": "stream",
     "text": [
      "Q4：\n",
      "[ 0.          0.52631579  1.05263158  1.57894737  2.10526316  2.63157895\n",
      "  3.15789474  3.68421053  4.21052632  4.73684211  5.26315789  5.78947368\n",
      "  6.31578947  6.84210526  7.36842105  7.89473684  8.42105263  8.94736842\n",
      "  9.47368421 10.        ]\n"
     ]
    }
   ],
   "source": [
    "print(\"Q4：\"+\"\\n\"+\"{}\".format(np.linspace(0, 10, 20)))"
   ]
  },
  {
   "cell_type": "code",
   "execution_count": 7,
   "metadata": {},
   "outputs": [
    {
     "name": "stdout",
     "output_type": "stream",
     "text": [
      "Q5：5*5 identity matrix \n",
      "[[1. 0. 0. 0. 0.]\n",
      " [0. 1. 0. 0. 0.]\n",
      " [0. 0. 1. 0. 0.]\n",
      " [0. 0. 0. 1. 0.]\n",
      " [0. 0. 0. 0. 1.]]\n"
     ]
    }
   ],
   "source": [
    "print(\"Q5：5*5 identity matrix \"+\"\\n\"+\"{}\".format(np.eye(5, 5)))"
   ]
  },
  {
   "cell_type": "markdown",
   "metadata": {},
   "source": [
    "### Practice 03"
   ]
  },
  {
   "cell_type": "code",
   "execution_count": 8,
   "metadata": {},
   "outputs": [
    {
     "name": "stdout",
     "output_type": "stream",
     "text": [
      "Q1：5*5 uinoform random samples array \n",
      "[[0.28510558 0.20565256 0.3677786  0.2712567  0.17676335]\n",
      " [0.16886681 0.17826707 0.48096763 0.016651   0.44454447]\n",
      " [0.19004816 0.38193946 0.40750495 0.89990997 0.40375927]\n",
      " [0.31928453 0.06015484 0.45719652 0.00582965 0.0434193 ]\n",
      " [0.9892625  0.23570279 0.7311326  0.05719065 0.02154421]]\n"
     ]
    }
   ],
   "source": [
    "print(\"Q1：5*5 uinoform random samples array \"+\"\\n\"+\"{}\".format( np.random.rand(5, 5)))"
   ]
  },
  {
   "cell_type": "code",
   "execution_count": 9,
   "metadata": {},
   "outputs": [
    {
     "name": "stdout",
     "output_type": "stream",
     "text": [
      "Q2：5*5 random standard normal distributuin samples array \n",
      "[[-0.64593294  0.26439426 -0.95792123 -2.15369825 -0.66143364]\n",
      " [-0.58030791 -0.43103681 -1.1876878  -1.74259538  0.66853294]\n",
      " [-0.08274087 -0.7660902  -1.00651459  0.11224375  0.06074781]\n",
      " [ 0.74883382  1.70204138 -1.05467785 -1.56236452 -1.27555725]\n",
      " [ 0.76683804  1.84450074 -0.46808201 -1.80781102  0.25543443]]\n"
     ]
    }
   ],
   "source": [
    "print(\"Q2：5*5 random standard normal distributuin samples array \"+\"\\n\"+\"{}\".format( np.random.randn(5, 5)))"
   ]
  },
  {
   "cell_type": "code",
   "execution_count": 10,
   "metadata": {},
   "outputs": [
    {
     "name": "stdout",
     "output_type": "stream",
     "text": [
      "Q3： 5*5 array with random integers from 0 to 100 \n",
      "[[61 33  8 60 54]\n",
      " [51 77 59 10 29]\n",
      " [ 5 76 96  5 24]\n",
      " [15 44 49 26 32]\n",
      " [28 59  0 31 75]]\n"
     ]
    }
   ],
   "source": [
    "print(\"Q3： 5*5 array with random integers from 0 to 100 \"+\"\\n\"+\"{}\".format( np.random.randint(0, 100, (5, 5))))"
   ]
  },
  {
   "cell_type": "markdown",
   "metadata": {},
   "source": [
    "### Practice 04"
   ]
  },
  {
   "cell_type": "code",
   "execution_count": 11,
   "metadata": {},
   "outputs": [
    {
     "data": {
      "text/plain": [
       "array([[2, 7, 9, 8],\n",
       "       [0, 9, 7, 7],\n",
       "       [0, 7, 0, 3]])"
      ]
     },
     "execution_count": 11,
     "metadata": {},
     "output_type": "execute_result"
    }
   ],
   "source": [
    "ex_array = np.random.randint(0, 10, (3, 4))\n",
    "ex_array"
   ]
  },
  {
   "cell_type": "code",
   "execution_count": 12,
   "metadata": {},
   "outputs": [
    {
     "name": "stdout",
     "output_type": "stream",
     "text": [
      "Q1：(3, 4)\n",
      "Q2：3\n",
      "Q3：2\n",
      "Q4：12\n",
      "Q5：int64\n",
      "Q6：New type --> float64\n",
      "Q7 After reshape：\n",
      "[[2 7 9 8 0 9]\n",
      " [7 7 0 7 0 3]]\n",
      "shape is：(2, 6)\n"
     ]
    }
   ],
   "source": [
    "print(\"Q1：{}\".format( ex_array.shape))\n",
    "print(\"Q2：{}\".format( len(ex_array) ))\n",
    "print(\"Q3：{}\".format( ex_array.ndim ))\n",
    "print(\"Q4：{}\".format( ex_array.size ))\n",
    "print(\"Q5：{}\".format( ex_array.dtype))\n",
    "\n",
    "convert_ = ex_array.astype(np.float)\n",
    "print(\"Q6：New type --> {}\".format( convert_.dtype))\n",
    "\n",
    "print(\"Q7 After reshape：\"+\"\\n\"+\"{}\".format( ex_array.reshape(2, 6)))\n",
    "print(\"shape is：{}\".format( ex_array.reshape(2, 6).shape))"
   ]
  },
  {
   "cell_type": "markdown",
   "metadata": {},
   "source": [
    "### Practice 05"
   ]
  },
  {
   "cell_type": "code",
   "execution_count": 13,
   "metadata": {},
   "outputs": [
    {
     "name": "stdout",
     "output_type": "stream",
     "text": [
      "Array：\n",
      "[[ 7 17 12 14 19]\n",
      " [14  9  3 19 16]\n",
      " [ 3  1 18  3 19]]\n",
      "max =  19\n",
      "min =  1\n",
      "median =  14.0\n",
      "mean =  11.6\n"
     ]
    }
   ],
   "source": [
    "ex_array = np.random.randint(0, 20, (3, 5))\n",
    "print(\"Array：\"+\"\\n\"+\"{}\".format(ex_array))\n",
    "print(\"max = \", np.max(ex_array))\n",
    "print(\"min = \", np.min(ex_array))\n",
    "print(\"median = \", np.median(ex_array))\n",
    "print(\"mean = \", np.mean(ex_array))"
   ]
  },
  {
   "cell_type": "markdown",
   "metadata": {},
   "source": [
    "### Practice 06"
   ]
  },
  {
   "cell_type": "code",
   "execution_count": 14,
   "metadata": {},
   "outputs": [
    {
     "name": "stdout",
     "output_type": "stream",
     "text": [
      "Array：\n",
      "[[ 1  2 16  4]\n",
      " [17 15  3  4]\n",
      " [ 8  1  5 16]]\n",
      "-------------------------------\n",
      "argmax with axis=0：[1 1 0 2]\n",
      "argmax with axis=1：[2 0 3]\n",
      "-------------------------------\n",
      "argmin with axis=0：[0 2 1 0]\n",
      "argmin with axis=1：[0 2 1]\n"
     ]
    }
   ],
   "source": [
    "ex_array = np.random.randint(0, 20, (3, 4))\n",
    "print(\"Array：\"+\"\\n\"+\"{}\".format(ex_array))\n",
    "print(\"-------------------------------\")\n",
    "print(\"argmax with axis=0：{}\".format( np.argmax(ex_array, axis=0)) )\n",
    "print(\"argmax with axis=1：{}\".format( np.argmax(ex_array, axis=1)) )\n",
    "print(\"-------------------------------\")\n",
    "print(\"argmin with axis=0：{}\".format( np.argmin(ex_array, axis=0)) )\n",
    "print(\"argmin with axis=1：{}\".format( np.argmin(ex_array, axis=1)) )"
   ]
  },
  {
   "cell_type": "markdown",
   "metadata": {},
   "source": [
    "### Practice 07"
   ]
  },
  {
   "cell_type": "code",
   "execution_count": 15,
   "metadata": {},
   "outputs": [
    {
     "name": "stdout",
     "output_type": "stream",
     "text": [
      "Array：\n",
      "[[13 15 13  3 16]\n",
      " [ 8 17  9  1 11]]\n",
      "--------------------------\n",
      "Q1：\n",
      "Sort with axis=0：\n",
      "[[ 8 15  9  1 11]\n",
      " [13 17 13  3 16]]\n",
      "    -----------    \n",
      "Sort with axis=1：\n",
      "[[ 3 13 13 15 16]\n",
      " [ 1  8  9 11 17]]\n",
      ">-----------------------------<\n",
      "Q2：\n",
      "New value is  12\n",
      "New array after append new value：\n",
      "[13 15 13  3 16  8 17  9  1 11 12], Shape is(11,)\n",
      ">-----------------------------<\n",
      "Array：\n",
      "[ 2 10  6  5 17 15  6 12 11 15]\n",
      ">-----------------------------<\n",
      "Q3：\n",
      "Insert value is  70\n",
      "New array after append new value：\n",
      "[ 2 70 10  6  5 17 15  6 12 11 15]\n",
      ">-----------------------------<\n",
      "Q4：\n",
      "New array after Delete postion 4 value ：\n",
      "[ 2 10  6 17 15  6 12 11 15]\n",
      ">-----------------------------<\n"
     ]
    }
   ],
   "source": [
    "ex_array = np.random.randint(0, 20, (2, 5))\n",
    "print(\"Array：\"+\"\\n\"+\"{}\".format(ex_array))\n",
    "print(\"--------------------------\")\n",
    "print(\"Q1：\")\n",
    "print(\"Sort with axis=0：\"+\"\\n\"+\"{}\".format( np.sort(ex_array ,axis=0) )) # sort with col\n",
    "print(\"    -----------    \")\n",
    "print(\"Sort with axis=1：\"+\"\\n\"+\"{}\".format( np.sort(ex_array, axis=1) )) # sort with row\n",
    "print(\">-----------------------------<\")\n",
    "\n",
    "print(\"Q2：\")\n",
    "new_rand = np.random.randint(0, 100)\n",
    "print(\"New value is \", new_rand)\n",
    "print(\"New array after append new value：\"+\"\\n\"+\"{0}, Shape is{1}\"\n",
    "      .format( np.append(ex_array, new_rand) , np.append(ex_array, new_rand).shape)) \n",
    "print(\">-----------------------------<\")\n",
    "\n",
    "\n",
    "ex01_array = np.random.randint(0, 20, 10)\n",
    "print(\"Array：\"+\"\\n\"+\"{}\".format(ex01_array))\n",
    "print(\">-----------------------------<\")\n",
    "print(\"Q3：\")\n",
    "insert_rand = np.random.randint(0, 100)\n",
    "print(\"Insert value is \", insert_rand)\n",
    "print(\"New array after append new value：\"+\"\\n\"+\"{0}\"\n",
    "      .format( np.insert(ex01_array, 1, insert_rand)) )\n",
    "print(\">-----------------------------<\")\n",
    "print(\"Q4：\")\n",
    "print(\"New array after Delete postion 4 value ：\"+\"\\n\"+\"{0}\".format( np.delete(ex01_array, 3) ))\n",
    "print(\">-----------------------------<\")"
   ]
  },
  {
   "cell_type": "markdown",
   "metadata": {},
   "source": [
    "### Practice08"
   ]
  },
  {
   "cell_type": "code",
   "execution_count": 16,
   "metadata": {},
   "outputs": [
    {
     "name": "stdout",
     "output_type": "stream",
     "text": [
      "Array 01：\n",
      " [[15  4  9 12]\n",
      " [ 3 10  4 15]]\n",
      "Array 02：\n",
      " [[ 1  1 17 17]\n",
      " [11  4 15  8]]\n",
      "--------------------------\n",
      "Q1：\n",
      "Array after vstack：\n",
      " [[15  4  9 12]\n",
      " [ 3 10  4 15]\n",
      " [ 1  1 17 17]\n",
      " [11  4 15  8]]\n",
      ">------------------------<\n",
      "Q2：\n",
      "Array after hstack：\n",
      " [[15  4  9 12  1  1 17 17]\n",
      " [ 3 10  4 15 11  4 15  8]]\n",
      ">------------------------<\n",
      "Q3：\n",
      "Array after concatenate with axis=0：\n",
      " [[15  4  9 12]\n",
      " [ 3 10  4 15]\n",
      " [ 1  1 17 17]\n",
      " [11  4 15  8]]\n",
      ">------------------------<\n",
      "Q4：\n",
      "Array after concatenate with axis=1：\n",
      " [[15  4  9 12  1  1 17 17]\n",
      " [ 3 10  4 15 11  4 15  8]]\n",
      ">------------------------<\n",
      "Array for Q5：\n",
      " [[29 32 36 66 63 57]\n",
      " [38 88 42 10 52 10]\n",
      " [28 46 79 17 68 66]\n",
      " [64 51 65 77 59 45]\n",
      " [ 8 93  6 44 21 28]\n",
      " [27 30 59 67 31 15]]\n",
      "Array after vsplit：\n",
      " [array([[29, 32, 36, 66, 63, 57],\n",
      "       [38, 88, 42, 10, 52, 10]]), array([[28, 46, 79, 17, 68, 66],\n",
      "       [64, 51, 65, 77, 59, 45]]), array([[ 8, 93,  6, 44, 21, 28],\n",
      "       [27, 30, 59, 67, 31, 15]])]\n",
      "Array after hsplit：\n",
      " [array([[29, 32],\n",
      "       [38, 88],\n",
      "       [28, 46],\n",
      "       [64, 51],\n",
      "       [ 8, 93],\n",
      "       [27, 30]]), array([[36, 66],\n",
      "       [42, 10],\n",
      "       [79, 17],\n",
      "       [65, 77],\n",
      "       [ 6, 44],\n",
      "       [59, 67]]), array([[63, 57],\n",
      "       [52, 10],\n",
      "       [68, 66],\n",
      "       [59, 45],\n",
      "       [21, 28],\n",
      "       [31, 15]])]\n"
     ]
    }
   ],
   "source": [
    "ex_arra01 = np.random.randint(0, 20, (2, 4))\n",
    "ex_arra02 = np.random.randint(0, 20, (2, 4))\n",
    "print(\"Array 01：\"+\"\\n\"+\" {}\".format(ex_arra01))\n",
    "print(\"Array 02：\"+\"\\n\"+\" {}\".format(ex_arra02))\n",
    "print(\"--------------------------\")\n",
    "\n",
    "print(\"Q1：\")\n",
    "arr_v = np.vstack((ex_arra01, ex_arra02))\n",
    "print(\"Array after vstack：\"+\"\\n\", arr_v)\n",
    "del arr_v\n",
    "print(\">------------------------<\")\n",
    "\n",
    "\n",
    "print(\"Q2：\")\n",
    "arr_h = np.hstack((ex_arra01, ex_arra02))\n",
    "print(\"Array after hstack：\"+\"\\n\", arr_h)\n",
    "del arr_h\n",
    "print(\">------------------------<\")\n",
    "\n",
    "print(\"Q3：\")\n",
    "arr_v = np.concatenate((ex_arra01, ex_arra02), axis=0)\n",
    "print(\"Array after concatenate with axis=0：\"+\"\\n\", arr_v)\n",
    "del arr_v\n",
    "print(\">------------------------<\")\n",
    "\n",
    "\n",
    "print(\"Q4：\")\n",
    "arr_h = np.concatenate((ex_arra01, ex_arra02), axis=1)\n",
    "print(\"Array after concatenate with axis=1：\"+\"\\n\", arr_h)\n",
    "del arr_h\n",
    "print(\">------------------------<\")\n",
    "\n",
    "\n",
    "arr_q5 = np.random.randint(1, 100, (6, 6) )\n",
    "print(\"Array for Q5：\"+\"\\n\", arr_q5)\n",
    "print(\"Array after vsplit：\"+\"\\n\", np.vsplit(arr_q5, 3))\n",
    "print(\"Array after hsplit：\"+\"\\n\", np.hsplit(arr_q5, 3))\n",
    "del arr_q5"
   ]
  },
  {
   "cell_type": "markdown",
   "metadata": {},
   "source": [
    "### Practice 09"
   ]
  },
  {
   "cell_type": "code",
   "execution_count": 17,
   "metadata": {},
   "outputs": [
    {
     "name": "stdout",
     "output_type": "stream",
     "text": [
      "Array： [14 19 19  6  6 14  7 18 15  4]\n",
      "Q1： 19\n",
      "Q2： [19  6  6 14  7 18 15  4]\n",
      "Q3： [14 19 19]\n",
      "Q4：\n",
      "[[1. 1. 1. 1. 1. 1. 1. 1.]\n",
      " [1. 0. 0. 0. 0. 0. 0. 1.]\n",
      " [1. 0. 0. 0. 0. 0. 0. 1.]\n",
      " [1. 0. 0. 0. 0. 0. 0. 1.]\n",
      " [1. 0. 0. 0. 0. 0. 0. 1.]\n",
      " [1. 0. 0. 0. 0. 0. 0. 1.]\n",
      " [1. 0. 0. 0. 0. 0. 0. 1.]\n",
      " [1. 1. 1. 1. 1. 1. 1. 1.]]\n"
     ]
    }
   ],
   "source": [
    "ex_array = np.random.randint(0, 20, 10)\n",
    "print(\"Array：\", ex_array)\n",
    "\n",
    "print(\"Q1：\", ex_array[2])\n",
    "print(\"Q2：\", ex_array[2:])\n",
    "print(\"Q3：\", ex_array[0:3])\n",
    "\n",
    "print(\"Q4：\")\n",
    "size_rand = np.random.randint(3, 10)\n",
    "x = np.ones((size_rand, size_rand))\n",
    "x[1:-1, 1:-1] = 0 \n",
    "print(x)"
   ]
  },
  {
   "cell_type": "markdown",
   "metadata": {},
   "source": [
    "### Practice 10 "
   ]
  },
  {
   "cell_type": "code",
   "execution_count": 18,
   "metadata": {},
   "outputs": [
    {
     "name": "stdout",
     "output_type": "stream",
     "text": [
      "Array： [ 6  3  6  9  6 11 12  4 17  4]\n",
      "Q1： [100 100 100 100 100 100  12   4  17   4]\n",
      "Q2： [20 20 20 20 20 20 20 20 20 20]\n",
      "Q3： [20 20 20 20 20 20]\n",
      "Q4： [10 10 10 10 10 10]\n",
      "Originale ex_array： [10 10 10 10 10 10 20 20 20 20]\n",
      "Q5： [10 10 10 10 10 10 20 20 20 20]\n"
     ]
    }
   ],
   "source": [
    "ex_array = np.random.randint(0, 20, 10)\n",
    "print(\"Array：\", ex_array)\n",
    "\n",
    "ex_array[0:6] = 100\n",
    "print(\"Q1：\", ex_array)\n",
    "\n",
    "ex_array[:] = 20\n",
    "print(\"Q2：\", ex_array)\n",
    "\n",
    "slice_array = ex_array[0:6]\n",
    "print(\"Q3：\", slice_array)\n",
    "\n",
    "slice_array[:] = 10\n",
    "print(\"Q4：\", slice_array)\n",
    "print(\"Originale ex_array：\", ex_array)\n",
    "\n",
    "array_copy = ex_array.copy()\n",
    "print(\"Q5：\", array_copy)"
   ]
  },
  {
   "cell_type": "markdown",
   "metadata": {},
   "source": [
    "### Practice 11"
   ]
  },
  {
   "cell_type": "code",
   "execution_count": 19,
   "metadata": {},
   "outputs": [
    {
     "name": "stdout",
     "output_type": "stream",
     "text": [
      "Size of array： 4\n",
      "Q1：2D array：\n",
      " [[33 57 88 38]\n",
      " [33 32 86 55]\n",
      " [96 96 57 58]\n",
      " [35 87 78 72]]\n",
      "\n",
      "\n",
      "Q2：Value of (2, 4), which called individual element： 55\n",
      "Q2：top right corner = \n",
      " [[88 38]\n",
      " [86 55]]\n",
      "Bottom row corner = \n",
      " [35 87 78 72]\n"
     ]
    }
   ],
   "source": [
    "size_rand = np.random.randint(4, 10)\n",
    "print(\"Size of array：\", size_rand)\n",
    "round_num = round(size_rand/2)\n",
    "arr_2d = np.random.randint(1, 100, (size_rand, size_rand))\n",
    "print(\"Q1：2D array：\"+\"\\n\", arr_2d)\n",
    "print(\"\\n\")\n",
    "print(\"Q2：Value of (2, 4), which called individual element：\", arr_2d[1][3])\n",
    "print(\"Q2：top right corner = \"+\"\\n\", arr_2d[:round_num, round_num:])\n",
    "print(\"Bottom row corner = \"+\"\\n\", arr_2d[arr_2d.shape[1]-1])"
   ]
  },
  {
   "cell_type": "markdown",
   "metadata": {},
   "source": [
    "### Practice 12"
   ]
  },
  {
   "cell_type": "code",
   "execution_count": 20,
   "metadata": {},
   "outputs": [
    {
     "name": "stdout",
     "output_type": "stream",
     "text": [
      "Orginal array： [[0. 0. 0. 0. 0. 0. 0. 0. 0. 0.]\n",
      " [1. 1. 1. 1. 1. 1. 1. 1. 1. 1.]\n",
      " [2. 2. 2. 2. 2. 2. 2. 2. 2. 2.]\n",
      " [3. 3. 3. 3. 3. 3. 3. 3. 3. 3.]\n",
      " [4. 4. 4. 4. 4. 4. 4. 4. 4. 4.]\n",
      " [5. 5. 5. 5. 5. 5. 5. 5. 5. 5.]\n",
      " [6. 6. 6. 6. 6. 6. 6. 6. 6. 6.]\n",
      " [7. 7. 7. 7. 7. 7. 7. 7. 7. 7.]\n",
      " [8. 8. 8. 8. 8. 8. 8. 8. 8. 8.]\n",
      " [9. 9. 9. 9. 9. 9. 9. 9. 9. 9.]]\n",
      "\n",
      "\n",
      "Q1：Get the row 6, 4, 2, 7 of given matrix = \n",
      " [[6. 6. 6. 6. 6. 6. 6. 6. 6. 6.]\n",
      " [4. 4. 4. 4. 4. 4. 4. 4. 4. 4.]\n",
      " [2. 2. 2. 2. 2. 2. 2. 2. 2. 2.]\n",
      " [7. 7. 7. 7. 7. 7. 7. 7. 7. 7.]]\n"
     ]
    }
   ],
   "source": [
    "#Set up matrix\n",
    "arr2d = np.zeros((10, 10))\n",
    "#Length of array\n",
    "arr_length = arr2d.shape[1]\n",
    "#Set up array\n",
    "for i in range(arr_length):\n",
    "    arr2d[i] = i\n",
    "    \n",
    "print(\"Orginal array：\", arr2d)\n",
    "print(\"\\n\")\n",
    "print(\"Q1：Get the row 6, 4, 2, 7 of given matrix = \"+\"\\n\",arr2d[[6, 4, 2, 7]])"
   ]
  },
  {
   "cell_type": "markdown",
   "metadata": {},
   "source": [
    "### Practice 13"
   ]
  },
  {
   "cell_type": "code",
   "execution_count": 21,
   "metadata": {},
   "outputs": [
    {
     "name": "stdout",
     "output_type": "stream",
     "text": [
      "Array： [ 3 12 14 10  2  6  9  5 15 16]\n",
      "Q1：Boolean result in array with condition：value > 6：\n",
      " [False  True  True  True False False  True False  True  True]\n",
      "Q2：New array：\n",
      " [12 14 10  9 15 16]\n"
     ]
    }
   ],
   "source": [
    "size_rand = np.random.randint(5, 15)\n",
    "ex_array = np.random.randint(1, 20, size_rand)\n",
    "print(\"Array：\", ex_array)\n",
    "\n",
    "bool_arr = ex_array>6\n",
    "print(\"Q1：Boolean result in array with condition：value > 6：\"+\"\\n\", bool_arr)\n",
    "new_arr = ex_array[bool_arr]\n",
    "# or new_arr = ex_array[ex_array>6]\n",
    "print(\"Q2：New array：\"+\"\\n\", new_arr)"
   ]
  },
  {
   "cell_type": "markdown",
   "metadata": {},
   "source": [
    "### Practice 14"
   ]
  },
  {
   "cell_type": "code",
   "execution_count": 22,
   "metadata": {},
   "outputs": [
    {
     "name": "stdout",
     "output_type": "stream",
     "text": [
      "Array a： [[ 2  8 13  5 18 19]\n",
      " [17  9 19  4 12  5]\n",
      " [ 6 10  2 14 16  7]]\n",
      "Array b： [[10  2  5  9  1  7]\n",
      " [10 19 16  8  3  4]\n",
      " [ 2 11 11  3 11 11]]\n"
     ]
    }
   ],
   "source": [
    "arr_a = np.random.randint(1, 20, (3, 6))\n",
    "arr_b = np.random.randint(1, 20, (3, 6))\n",
    "print(\"Array a：\", arr_a)\n",
    "print(\"Array b：\", arr_b)"
   ]
  },
  {
   "cell_type": "code",
   "execution_count": 23,
   "metadata": {},
   "outputs": [
    {
     "name": "stdout",
     "output_type": "stream",
     "text": [
      "Q1：\n",
      "arr_a + arr_b =\n",
      " [[12 10 18 14 19 26]\n",
      " [27 28 35 12 15  9]\n",
      " [ 8 21 13 17 27 18]]\n",
      "arr_a - arr_b =\n",
      " [[ -8   6   8  -4  17  12]\n",
      " [  7 -10   3  -4   9   1]\n",
      " [  4  -1  -9  11   5  -4]]\n",
      "arr_a * arr_b =\n",
      " [[ 20  16  65  45  18 133]\n",
      " [170 171 304  32  36  20]\n",
      " [ 12 110  22  42 176  77]]\n",
      "arr_a / arr_b =\n",
      " [[ 0.2         4.          2.6         0.55555556 18.          2.71428571]\n",
      " [ 1.7         0.47368421  1.1875      0.5         4.          1.25      ]\n",
      " [ 3.          0.90909091  0.18181818  4.66666667  1.45454545  0.63636364]]\n",
      "arr_a < arr_b =\n",
      " [[ True False False  True False False]\n",
      " [False  True False  True False False]\n",
      " [False  True  True False False  True]]\n",
      "arr_a > arr_b =\n",
      " [[False  True  True False  True  True]\n",
      " [ True False  True False  True  True]\n",
      " [ True False False  True  True False]]\n",
      ">------------------------<\n",
      "Q2：\n",
      "arr_a ^3 =\n",
      " [[   8  512 2197  125 5832 6859]\n",
      " [4913  729 6859   64 1728  125]\n",
      " [ 216 1000    8 2744 4096  343]]\n",
      "arr_a inner dot with arr_b =\n",
      " [[297 550 657]\n",
      " [366 733 541]\n",
      " [281 470 439]]\n",
      ">------------------------<\n",
      "Q3：\n",
      "Total sum values of arr_a =\n",
      " 186\n",
      "The maximum value of arr_a.=\n",
      " 2\n",
      "The minimum value of arr_a. =\n",
      " 19\n",
      "Elementwise addition of arr_a =\n",
      " [  2  10  23  28  46  65  82  91 110 114 126 131 137 147 149 163 179 186]\n"
     ]
    }
   ],
   "source": [
    "print(\"Q1：\")\n",
    "\n",
    "print(\"arr_a + arr_b =\"+\"\\n\", (arr_a + arr_b))\n",
    "\n",
    "print(\"arr_a - arr_b =\"+\"\\n\", (arr_a - arr_b))\n",
    "\n",
    "print(\"arr_a * arr_b =\"+\"\\n\", (arr_a * arr_b))\n",
    "\n",
    "print(\"arr_a / arr_b =\"+\"\\n\", (arr_a / arr_b))\n",
    "\n",
    "print(\"arr_a < arr_b =\"+\"\\n\", (arr_a < arr_b))\n",
    "\n",
    "print(\"arr_a > arr_b =\"+\"\\n\", (arr_a > arr_b))\n",
    "print(\">------------------------<\")\n",
    "print(\"Q2：\")\n",
    "print(\"arr_a ^3 =\"+\"\\n\", (arr_a **3))\n",
    "print(\"arr_a inner dot with arr_b =\"+\"\\n\", arr_a.dot(arr_b.T))\n",
    "print(\">------------------------<\")\n",
    "print(\"Q3：\")\n",
    "print(\"Total sum values of arr_a =\"+\"\\n\", arr_a.sum()) \n",
    "print(\"The maximum value of arr_a.=\"+\"\\n\", arr_a.min()) \n",
    "print(\"The minimum value of arr_a. =\"+\"\\n\", arr_a.max()) \n",
    "print(\"Elementwise addition of arr_a =\"+\"\\n\", arr_a.cumsum()) # Elementwise addition"
   ]
  },
  {
   "cell_type": "markdown",
   "metadata": {},
   "source": [
    "### Practice 15"
   ]
  },
  {
   "cell_type": "code",
   "execution_count": 24,
   "metadata": {},
   "outputs": [
    {
     "name": "stdout",
     "output_type": "stream",
     "text": [
      "Q1：\n",
      "Square roots of arr_a =\n",
      " [[1.41421356 2.82842712 3.60555128 2.23606798 4.24264069 4.35889894]\n",
      " [4.12310563 3.         4.35889894 2.         3.46410162 2.23606798]\n",
      " [2.44948974 3.16227766 1.41421356 3.74165739 4.         2.64575131]]\n",
      "\n",
      "\n",
      "Q2：\n",
      "Exponential of arr_a =\n",
      " [[7.38905610e+00 2.98095799e+03 4.42413392e+05 1.48413159e+02\n",
      "  6.56599691e+07 1.78482301e+08]\n",
      " [2.41549528e+07 8.10308393e+03 1.78482301e+08 5.45981500e+01\n",
      "  1.62754791e+05 1.48413159e+02]\n",
      " [4.03428793e+02 2.20264658e+04 7.38905610e+00 1.20260428e+06\n",
      "  8.88611052e+06 1.09663316e+03]]\n",
      "\n",
      "\n",
      "Q3：\n",
      "Sine value of arr_a =\n",
      " [[ 0.90929743  0.98935825  0.42016704 -0.95892427 -0.75098725  0.14987721]\n",
      " [-0.96139749  0.41211849  0.14987721 -0.7568025  -0.53657292 -0.95892427]\n",
      " [-0.2794155  -0.54402111  0.90929743  0.99060736 -0.28790332  0.6569866 ]]\n",
      "Cosine value of arr_a =\n",
      " [[-0.41614684 -0.14550003  0.90744678  0.28366219  0.66031671  0.98870462]\n",
      " [-0.27516334 -0.91113026  0.98870462 -0.65364362  0.84385396  0.28366219]\n",
      " [ 0.96017029 -0.83907153 -0.41614684  0.13673722 -0.95765948  0.75390225]]\n",
      "log value of arr_a =\n",
      " [[0.69314718 2.07944154 2.56494936 1.60943791 2.89037176 2.94443898]\n",
      " [2.83321334 2.19722458 2.94443898 1.38629436 2.48490665 1.60943791]\n",
      " [1.79175947 2.30258509 0.69314718 2.63905733 2.77258872 1.94591015]]\n"
     ]
    }
   ],
   "source": [
    "print(\"Q1：\")\n",
    "print(\"Square roots of arr_a =\"+\"\\n\", np.sqrt(arr_a) ) \n",
    "print(\"\\n\")\n",
    "print(\"Q2：\")\n",
    "print(\"Exponential of arr_a =\"+\"\\n\", np.exp(arr_a) )\n",
    "print(\"\\n\")\n",
    "print(\"Q3：\")\n",
    "print(\"Sine value of arr_a =\"  +\"\\n\", np.sin(arr_a) )\n",
    "print(\"Cosine value of arr_a =\"+\"\\n\", np.cos(arr_a) )\n",
    "print(\"log value of arr_a =\"   +\"\\n\", np.log(arr_a) )"
   ]
  },
  {
   "cell_type": "markdown",
   "metadata": {},
   "source": [
    "### Practice 16"
   ]
  },
  {
   "cell_type": "code",
   "execution_count": 25,
   "metadata": {},
   "outputs": [
    {
     "name": "stdout",
     "output_type": "stream",
     "text": [
      "Q1：Sigmoid\n"
     ]
    },
    {
     "data": {
      "image/png": "[encoded data removed]",
      "text/plain": [
       "<Figure size 432x288 with 1 Axes>"
      ]
     },
     "metadata": {
      "needs_background": "light"
     },
     "output_type": "display_data"
    }
   ],
   "source": [
    "def sigmoid(x):\n",
    "    sig_out = 1/(1 + np.exp(-x))\n",
    "    return sig_out\n",
    "print(\"Q1：Sigmoid\")\n",
    "x = np.arange(-10., 10., 0.2)\n",
    "out = sigmoid(x)\n",
    "\n",
    "plt.title(\"Sigmoid value\")\n",
    "plt.plot(x, out, c='b', label='input range with-10~10')\n",
    "plt.grid(True)\n",
    "plt.legend()\n",
    "plt.show()"
   ]
  },
  {
   "cell_type": "code",
   "execution_count": 26,
   "metadata": {},
   "outputs": [
    {
     "name": "stdout",
     "output_type": "stream",
     "text": [
      "Q2：Sigmoid gradient\n"
     ]
    },
    {
     "data": {
      "image/png": "[encoded data removed]",
      "text/plain": [
       "<Figure size 432x288 with 1 Axes>"
      ]
     },
     "metadata": {
      "needs_background": "light"
     },
     "output_type": "display_data"
    }
   ],
   "source": [
    "def sigmoid_grad(x):\n",
    "    out = sigmoid(x)*(1-sigmoid(x))\n",
    "    return out\n",
    "\n",
    "print(\"Q2：Sigmoid gradient\")\n",
    "out_grad = sigmoid_grad(x)\n",
    "\n",
    "plt.title(\"Sigmoid gradient value\")\n",
    "plt.plot(x, out_grad, c='r', label='input range with-10~10')\n",
    "plt.grid(True)\n",
    "plt.legend()\n",
    "plt.show()"
   ]
  },
  {
   "cell_type": "code",
   "execution_count": 27,
   "metadata": {},
   "outputs": [
    {
     "data": {
      "image/png": "[encoded data removed]",
      "text/plain": [
       "<Figure size 432x288 with 1 Axes>"
      ]
     },
     "metadata": {
      "needs_background": "light"
     },
     "output_type": "display_data"
    }
   ],
   "source": [
    "plt.title('Sigmoid and Sigmoid derivative functions')\n",
    "plt.plot(x, out, c='b', label='input range with-10~10')\n",
    "plt.plot(x, out_grad, c='r', label='input range with-10~10')\n",
    "plt.grid(True)\n",
    "plt.legend()\n",
    "plt.show()"
   ]
  },
  {
   "cell_type": "code",
   "execution_count": 28,
   "metadata": {},
   "outputs": [
    {
     "name": "stdout",
     "output_type": "stream",
     "text": [
      "Q3：L1 LOSS\n",
      "L1 = 54.46424498871705\n"
     ]
    }
   ],
   "source": [
    "def L1(yhat, y):\n",
    "    loss = np.sum(np.abs(y-yhat), axis=0)\n",
    "    return loss\n",
    "print(\"Q3：L1 LOSS\")\n",
    "yhat_ = np.random.rand(10)\n",
    "y_ = np.random.randint(10)\n",
    "print(\"L1 =\" , (L1(yhat_, y_)))"
   ]
  },
  {
   "cell_type": "code",
   "execution_count": 29,
   "metadata": {},
   "outputs": [
    {
     "name": "stdout",
     "output_type": "stream",
     "text": [
      "Q4：L2 LOSS\n",
      "L2 = 296.2838858616869\n"
     ]
    }
   ],
   "source": [
    "def L2(yhat, y):\n",
    "    loss = np.sum(np.power((y-yhat), 2))\n",
    "    return loss\n",
    "print(\"Q4：L2 LOSS\")\n",
    "yhat_ = np.random.rand(10)\n",
    "y_ = np.random.randint(10)\n",
    "print(\"L2 =\" , (L2(yhat_, y_)))"
   ]
  },
  {
   "cell_type": "markdown",
   "metadata": {},
   "source": [
    "### Practice 18"
   ]
  },
  {
   "cell_type": "code",
   "execution_count": 30,
   "metadata": {},
   "outputs": [
    {
     "name": "stdout",
     "output_type": "stream",
     "text": [
      "Array a： [[10  4 10 12  3  4]\n",
      " [16  1 15  2 15  1]\n",
      " [13 11  3  6  4  6]]\n"
     ]
    }
   ],
   "source": [
    "arr_a = np.random.randint(1, 20, (3, 6))\n",
    "print(\"Array a：\", arr_a)"
   ]
  },
  {
   "cell_type": "code",
   "execution_count": 31,
   "metadata": {},
   "outputs": [
    {
     "name": "stdout",
     "output_type": "stream",
     "text": [
      "Q1：\n",
      "Save done!\n",
      "Q2：\n",
      "[[10.  4. 10. 12.  3.  4.]\n",
      " [16.  1. 15.  2. 15.  1.]\n",
      " [13. 11.  3.  6.  4.  6.]]\n"
     ]
    }
   ],
   "source": [
    "print(\"Q1：\")\n",
    "np.savetxt('out_test.txt', arr_a) \n",
    "print(\"Save done!\")\n",
    "print(\"Q2：\")\n",
    "LOAD_FILE = np.loadtxt('out_test.txt')  \n",
    "print(LOAD_FILE)"
   ]
  }
 ],
 "metadata": {
  "kernelspec": {
   "display_name": "Python 3",
   "language": "python",
   "name": "python3"
  },
  "language_info": {
   "codemirror_mode": {
    "name": "ipython",
    "version": 3
   },
   "file_extension": ".py",
   "mimetype": "text/x-python",
   "name": "python",
   "nbconvert_exporter": "python",
   "pygments_lexer": "ipython3",
   "version": "3.6.9"
  }
 },
 "nbformat": 4,
 "nbformat_minor": 4
}
