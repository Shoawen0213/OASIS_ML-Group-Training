{
 "cells": [
  {
   "cell_type": "markdown",
   "metadata": {},
   "source": [
    "## Back Propagation\n",
    "- use Numpy and other python standard libraries Only\n",
    "- This pratice is reference from Lab01 of DLP cource at NCTUIOC"
   ]
  },
  {
   "cell_type": "code",
   "execution_count": 1,
   "metadata": {},
   "outputs": [],
   "source": [
    "import time\n",
    "import numpy as np \n",
    "import matplotlib.pyplot as plt\n",
    "from tqdm.notebook import tqdm\n",
    "from time import sleep"
   ]
  },
  {
   "cell_type": "code",
   "execution_count": 2,
   "metadata": {},
   "outputs": [],
   "source": [
    "def generate_linear( ):\n",
    "    pts = np.random.uniform(0, 1, (n, 2))  #(low,high,size), 包含low, 不包含high\n",
    "    inputs = []\n",
    "    labels = []\n",
    "    for pt in pts :\n",
    "        inputs.append([pt[0], pt[1]])\n",
    "        distance = (pt[0] - pt[1])/1.414\n",
    "        if(pt[0] > pt[1]):\n",
    "            labels.append(0)\n",
    "        else: \n",
    "            labels.append(1)\n",
    "    return np.array(inputs), np.array(labels).reshape(n, 1)\n",
    "\n",
    "def generate_XOR_easy():\n",
    "    inputs = []\n",
    "    labels = []\n",
    "    \n",
    "    for i in range(11):\n",
    "        inputs.append([0.1*i, 0.1*i])\n",
    "        labels.append(0)\n",
    "        \n",
    "        if 0.1*i == 0.5:\n",
    "            continue\n",
    "        inputs.append([0.1*i, (1 - 0.1*i)])\n",
    "        labels.append(1)\n",
    "    return np.array(inputs), np.array(labels).reshape(21, 1)\n",
    "\n",
    "def data_type_define(d_type):\n",
    "    if d_type == 'linear':\n",
    "        x, y = generate_linear()\n",
    "        return x, y\n",
    "    elif d_type == 'XOR':\n",
    "        x, y = generate_XOR_easy()\n",
    "        return x, y\n",
    "    else :\n",
    "        x, y = generate_XOR_easy()\n",
    "        return x, y\n",
    "    \n",
    "def show_result(x, y, pred_y):\n",
    "    plt.figure(figsize=(10,5))\n",
    "    plt.subplot(1, 2, 1)\n",
    "    plt.title('Ground truth', fontsize=18)\n",
    "    for i in range(x.shape[0]):\n",
    "        if y[i] == 0:\n",
    "            plt.plot(x[i][0],x[i][1],'ro')\n",
    "        else :\n",
    "            plt.plot(x[i][0],x[i][1],'bo')\n",
    "            \n",
    "    plt.subplot(1,2,2)\n",
    "    plt.title('Predict result', fontsize=18)\n",
    "    for i in range(x.shape[0]):\n",
    "        if pred_y[i] == 0:\n",
    "            plt.plot(x[i][0],x[i][1],'ro')\n",
    "        else :\n",
    "            plt.plot(x[i][0],x[i][1],'bo')\n",
    "    \n",
    "    plt.show()"
   ]
  },
  {
   "cell_type": "markdown",
   "metadata": {},
   "source": [
    "### NN network"
   ]
  },
  {
   "cell_type": "code",
   "execution_count": null,
   "metadata": {},
   "outputs": [],
   "source": [
    "class Neural_Network(object):\n",
    "    def __init__(self):\n",
    "    #parameters\n",
    "        self.learning_rate = 0.015\n",
    "        self.inputSize  = 2\n",
    "        self.hiddenSize = 20\n",
    "        self.outputSize = 1\n",
    "        \n",
    "    #weights\n",
    "        self.W1 = np.random.randn(self.inputSize,  self.hiddenSize) \n",
    "        self.W2 = np.random.randn(self.hiddenSize, self.hiddenSize)\n",
    "        self.W3 = np.random.randn(self.hiddenSize, self.outputSize) \n",
    "    \n",
    "    def activation_func_type(self, x, deri_trig):\n",
    "        if (deri_trig == 0):\n",
    "            return 1.0/(1.0 + np.exp(-x))    #sigmoid\n",
    "        elif (deri_trig == 1):\n",
    "            return np.multiply(x, 1.0 - x)   #derivative_sigmoid\n",
    "        elif (deri_trig == 2):\n",
    "            return (np.exp(x)-np.exp(-x))/(np.exp(x)+np.exp(-x)) #tanh \n",
    "        elif (deri_trig == 3):\n",
    "            return 1-x**2                    #derivative_tanh\n",
    "        elif (deri_trig == 4):\n",
    "            return np.maximum(0, x)\n",
    "#             return np.maximum(0, x)           #Relu\n",
    "        elif (deri_trig == 5):\n",
    "            return (x > 0).astype(float)\n",
    "#             return 1.0*(x>0)                #derivative_Relu\n",
    "        elif (deri_trig == 6):\n",
    "            return np.maximum(0.01 * x, x)  #leaky_relu\n",
    "        elif (deri_trig == 7):              #derivative_leaky_relu\n",
    "            return np.clip(x > 0, 0.01, 1.0)  \n",
    "        else :\n",
    "            return x                         #default \n",
    "    \n",
    "    #forward propagation\n",
    "    def forward(self, X):\n",
    "        self.multi_1st  = np.dot(X, self.W1) \n",
    "        self.Z1 = self.activation_func_type(self.multi_1st, 0)\n",
    "        \n",
    "        self.multi_2nd = np.dot(self.Z1, self.W2)\n",
    "        self.Z2 = self.activation_func_type(self.multi_2nd, 0)\n",
    "        \n",
    "        self.multi_3rd = np.dot(self.Z2, self.W3)\n",
    "        o_pred = self.activation_func_type(self.multi_3rd, 0)\n",
    "        return o_pred\n",
    "    \n",
    "    # backward propagation\n",
    "    def backward(self, X, y, o):\n",
    "#         self.loss = y - o\n",
    "        self.loss = o - y\n",
    "        self.o_delta = self.loss*self.activation_func_type(o, 1)\n",
    "\n",
    "        self.z2_error = self.o_delta.dot(self.W3.T) \n",
    "        self.z2_delta = self.z2_error*self.activation_func_type(self.Z2, 1) \n",
    "        \n",
    "        self.z1_error = self.z2_delta.dot(self.W2.T) \n",
    "        self.z1_delta = self.z1_error*self.activation_func_type(self.Z1, 1)\n",
    "\n",
    "        #update eights\n",
    "        self.W1 = self.W1 - X.T.dot(self.z1_delta) * self.learning_rate\n",
    "        self.W2 = self.W2 - self.Z1.T.dot(self.z2_delta) * self.learning_rate\n",
    "        self.W3 = self.W3 - self.Z2.T.dot(self.o_delta) * self.learning_rate\n",
    "        \n",
    "        \n",
    "    def train_flow(self, X, y):\n",
    "        o = self.forward(X)\n",
    "        self.backward(X, y, o) \n",
    "        \n",
    "    def train_epoch(self, epoch, num_show, x, y):\n",
    "        loss = np.zeros(int(epoch/num_show))\n",
    "        \n",
    "        for i in range(epoch + 1):\n",
    "            self.train_flow(x, y)\n",
    "            if(i==0)or((i%num_show == 0)and(i > 9999)):\n",
    "                loss[i%num_show] = np.mean(np.square(y - self.forward(x))) #MSE(mean sum squared) loss\n",
    "                print (\"epoch \" + str(i) + \" Loss: \" + str(loss[i%num_show]))\n",
    "        return loss\n",
    "\n",
    "    def plot_loss(self, loss, x , y):\n",
    "        plt.title('Loss' , fontsize = 18)\n",
    "        plt.plot(loss)\n",
    "        \n",
    "        pred_y = self.forward(x)\n",
    "\n",
    "        self.classify_correct(pred_y, y)\n",
    "        \n",
    "        plt.xlabel(\"# of epoch (*\" + str(num_to_show) + \")\")\n",
    "        plt.show()\n",
    "        \n",
    "        return pred_y\n",
    "    \n",
    "    \n",
    "    #predict y v.s label \n",
    "    def classify_correct(self, pred_y, label_y):\n",
    "        correct_num = 0\n",
    "        fail_pos = []\n",
    "        print(\"**-----start to classify...-----**\" )\n",
    "        for i in tqdm(range(len(pred_y))):\n",
    "            if(pred_y[i] > 0.5):\n",
    "                pred_y[i] = 1\n",
    "            else:\n",
    "                pred_y[i] = 0\n",
    "        \n",
    "            if(pred_y[i] == label_y[i]):\n",
    "                correct_num = correct_num + 1\n",
    "            else:\n",
    "                correct_num = correct_num\n",
    "                fail_pos.append(i)\n",
    "            sleep(0.01)\n",
    "        print(\"**-----Classification Result-----**\" )\n",
    "        print(\"PASS : {} || FAIL： {} \".format(correct_num, len(pred_y)-correct_num) )\n",
    "        if (len(pred_y)-correct_num)==0:\n",
    "            print(\"FAIL position : NONE\")\n",
    "        else:\n",
    "            print(\"FAIL position : {}\".format(fail_pos))\n",
    "        print(\"Accuracy : \", correct_num/len(pred_y))      \n",
    "        print(\"**-------------------------------**\" )"
   ]
  },
  {
   "cell_type": "code",
   "execution_count": 9,
   "metadata": {},
   "outputs": [
    {
     "data": {
      "image/png": "[encoded data removed]",
      "text/plain": [
       "<Figure size 432x288 with 1 Axes>"
      ]
     },
     "metadata": {
      "needs_background": "light"
     },
     "output_type": "display_data"
    },
    {
     "name": "stdout",
     "output_type": "stream",
     "text": [
      "start training\n",
      "epoch 0 Loss: 0.2432819521983395\n",
      "epoch 10000 Loss: 0.0017938231363900166\n",
      "epoch 15000 Loss: 0.0010512349952488268\n",
      "epoch 20000 Loss: 0.0006883039085065836\n",
      "epoch 25000 Loss: 0.00048590124859355883\n",
      "epoch 30000 Loss: 0.0003627098416084593\n",
      "epoch 35000 Loss: 0.0002825359483967857\n",
      "epoch 40000 Loss: 0.00022749938337926316\n",
      "epoch 45000 Loss: 0.00018805317677374366\n",
      "epoch 50000 Loss: 0.00015876499094317174\n",
      "epoch 55000 Loss: 0.0001363739611178189\n",
      "epoch 60000 Loss: 0.00011883174273680205\n",
      "epoch 65000 Loss: 0.00010480068083890985\n",
      "epoch 70000 Loss: 9.337751225056149e-05\n",
      "epoch 75000 Loss: 8.393434756362107e-05\n",
      "epoch 80000 Loss: 7.602352385912404e-05\n",
      "epoch 85000 Loss: 6.931869017033274e-05\n",
      "epoch 90000 Loss: 6.357720455176742e-05\n",
      "epoch 95000 Loss: 5.861547691649002e-05\n",
      "epoch 100000 Loss: 5.429240577892857e-05\n",
      "Excution time：16.322995 sec\n",
      "**-----start to classify...-----**\n"
     ]
    },
    {
     "data": {
      "application/vnd.jupyter.widget-view+json": {
       "model_id": "699fe296aa2647848a821bb3ac4a9300",
       "version_major": 2,
       "version_minor": 0
      },
      "text/plain": [
       "HBox(children=(IntProgress(value=0), HTML(value='')))"
      ]
     },
     "metadata": {},
     "output_type": "display_data"
    },
    {
     "name": "stdout",
     "output_type": "stream",
     "text": [
      "\n",
      "**-----Classification Result-----**\n",
      "PASS : 100 || FAIL： 0 \n",
      "FAIL position : NONE\n",
      "Accuracy :  1.0\n",
      "**-------------------------------**\n"
     ]
    },
    {
     "data": {
      "image/png": "[encoded data removed]",
      "text/plain": [
       "<Figure size 432x288 with 1 Axes>"
      ]
     },
     "metadata": {
      "needs_background": "light"
     },
     "output_type": "display_data"
    },
    {
     "data": {
      "image/png": "[encoded data removed]",
      "text/plain": [
       "<Figure size 720x360 with 2 Axes>"
      ]
     },
     "metadata": {
      "needs_background": "light"
     },
     "output_type": "display_data"
    }
   ],
   "source": [
    "NN = Neural_Network()\n",
    "epoch = 100000\n",
    "num_to_show = 5000\n",
    "\n",
    "#data generate in \"linear\" type\n",
    "x_lin, y_lin = data_type_define('linear')\n",
    "plt.title('Original data_linear scatter' , fontsize = 18)\n",
    "plt.scatter(x_lin[:,0], x_lin[:,1]) \n",
    "plt.show() \n",
    "\n",
    "print(\"start training\" )\n",
    "start = time.time()\n",
    "#show loss in  every 5000 epoch\n",
    "loss_val = NN.train_epoch(epoch, num_to_show, x_lin, y_lin)\n",
    "\n",
    "end = time.time()\n",
    "print(\"Excution time：%f sec\" % (end - start))\n",
    "\n",
    "pred_y = NN.plot_loss(loss_val, x_lin, y_lin)\n",
    "#show ground truth v.s predict rusult\n",
    "show_result(x_lin, y_lin, pred_y)"
   ]
  },
  {
   "cell_type": "code",
   "execution_count": null,
   "metadata": {},
   "outputs": [],
   "source": []
  },
  {
   "cell_type": "code",
   "execution_count": 11,
   "metadata": {
    "scrolled": false
   },
   "outputs": [
    {
     "data": {
      "image/png": "[encoded data removed]",
      "text/plain": [
       "<Figure size 432x288 with 1 Axes>"
      ]
     },
     "metadata": {
      "needs_background": "light"
     },
     "output_type": "display_data"
    },
    {
     "name": "stdout",
     "output_type": "stream",
     "text": [
      "start training\n",
      "epoch 0 Loss: 0.47471693632900835\n",
      "epoch 10000 Loss: 0.008677011004599663\n",
      "epoch 15000 Loss: 0.0027731268686866685\n",
      "epoch 20000 Loss: 0.001426648430993117\n",
      "epoch 25000 Loss: 0.0009120572132456085\n",
      "epoch 30000 Loss: 0.0006541709618678869\n",
      "epoch 35000 Loss: 0.0005030773465074136\n",
      "epoch 40000 Loss: 0.0004052239771475042\n",
      "epoch 45000 Loss: 0.0003373020568324415\n",
      "epoch 50000 Loss: 0.0002877064129624473\n",
      "epoch 55000 Loss: 0.0002500685994175929\n",
      "epoch 60000 Loss: 0.0002206268506471966\n",
      "epoch 65000 Loss: 0.00019702726560905204\n",
      "epoch 70000 Loss: 0.00017772701325752374\n",
      "epoch 75000 Loss: 0.0001616756140525037\n",
      "epoch 80000 Loss: 0.0001481346827277657\n",
      "epoch 85000 Loss: 0.00013657099846087634\n",
      "epoch 90000 Loss: 0.0001265904627897297\n",
      "epoch 95000 Loss: 0.00011789587685283498\n",
      "epoch 100000 Loss: 0.00011025912693162244\n",
      "Excution time：8.851696 sec\n",
      "**-----start to classify...-----**\n"
     ]
    },
    {
     "data": {
      "application/vnd.jupyter.widget-view+json": {
       "model_id": "edccd45f2adc4434aa53444c09e5b95e",
       "version_major": 2,
       "version_minor": 0
      },
      "text/plain": [
       "HBox(children=(IntProgress(value=0, max=21), HTML(value='')))"
      ]
     },
     "metadata": {},
     "output_type": "display_data"
    },
    {
     "name": "stdout",
     "output_type": "stream",
     "text": [
      "\n",
      "**-----Classification Result-----**\n",
      "PASS : 21 || FAIL： 0 \n",
      "FAIL position : NONE\n",
      "Accuracy :  1.0\n",
      "**-------------------------------**\n"
     ]
    },
    {
     "data": {
      "image/png": "[encoded data removed]",
      "text/plain": [
       "<Figure size 432x288 with 1 Axes>"
      ]
     },
     "metadata": {
      "needs_background": "light"
     },
     "output_type": "display_data"
    },
    {
     "data": {
      "image/png": "[encoded data removed]",
      "text/plain": [
       "<Figure size 720x360 with 2 Axes>"
      ]
     },
     "metadata": {
      "needs_background": "light"
     },
     "output_type": "display_data"
    }
   ],
   "source": [
    "NN = Neural_Network()\n",
    "epoch = 100000\n",
    "num_to_show = 5000\n",
    "\n",
    "#data generate in \"XOR\" type\n",
    "x_XOR, y_XOR = data_type_define('XOR')\n",
    "plt.title('Original data_XOR scatter' , fontsize = 18)\n",
    "plt.scatter(x_XOR[:,0], x_XOR[:,1]) \n",
    "plt.show() \n",
    "\n",
    "print(\"start training\" )\n",
    "start = time.time()\n",
    "#show loss in  every 5000 epoch\n",
    "loss_val = NN.train_epoch(epoch, num_to_show, x_XOR, y_XOR)\n",
    "end = time.time()\n",
    "print(\"Excution time：%f sec\" % (end - start))\n",
    "\n",
    "pred_y = NN.plot_loss(loss_val, x_XOR, y_XOR)\n",
    "#show ground truth v.s predict rusult\n",
    "show_result(x_XOR, y_XOR, pred_y)"
   ]
  },
  {
   "cell_type": "code",
   "execution_count": null,
   "metadata": {},
   "outputs": [],
   "source": []
  },
  {
   "cell_type": "code",
   "execution_count": null,
   "metadata": {},
   "outputs": [],
   "source": []
  }
 ],
 "metadata": {
  "kernelspec": {
   "display_name": "Python 3",
   "language": "python",
   "name": "python3"
  },
  "language_info": {
   "codemirror_mode": {
    "name": "ipython",
    "version": 3
   },
   "file_extension": ".py",
   "mimetype": "text/x-python",
   "name": "python",
   "nbconvert_exporter": "python",
   "pygments_lexer": "ipython3",
   "version": "3.6.9"
  }
 },
 "nbformat": 4,
 "nbformat_minor": 4
}
